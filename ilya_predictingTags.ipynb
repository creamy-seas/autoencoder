{
 "cells": [
  {
   "cell_type": "code",
   "execution_count": 3,
   "metadata": {
    "autoscroll": false,
    "collapsed": false,
    "ein.hycell": false,
    "ein.tags": "worksheet-0",
    "slideshow": {
     "slide_type": "-"
    }
   },
   "outputs": [
    {
     "name": "stdout",
     "output_type": "stream",
     "text": [
      "CPU times: user 3 µs, sys: 1 µs, total: 4 µs\n",
      "Wall time: 11 µs\n"
     ]
    }
   ],
   "source": [
    "%time\n",
    "import itertools\n",
    "import pandas as pd\n",
    "import os\n",
    "import numpy as np\n",
    "import csv\n",
    "import tensorflow as tf\n",
    "import keras as ks\n",
    "from keras.preprocessing.text import one_hot # encodes a sequence into list of integers (for embedding)\n",
    "from keras.preprocessing.text import hashing_trick # same as one hot, but do not need vocabulary\n",
    "from keras.preprocessing.sequence import pad_sequences  # pads lists to same size\n",
    "from keras.layers import Dense, Flatten, Reshape        # different neural network layers \n",
    "from keras import regularizers, Model, Input            # additiontal nn variables\n",
    "from keras.models import load_model\n",
    "\n",
    "import pickle            # writting and reading efficiently from files\n",
    "from sklearn.preprocessing import LabelBinarizer     # convert strings to output labels\n",
    "from sklearn.model_selection import train_test_split # split into training and testing data\n",
    "\n",
    "import matplotlib.pyplot as plt\n",
    "from mpl_toolkits.mplot3d import Axes3D # for 3d plotting\n",
    "plt.style.use('ilya_jupyter')"
   ]
  },
  {
   "cell_type": "code",
   "execution_count": 5,
   "metadata": {
    "autoscroll": false,
    "collapsed": false,
    "ein.hycell": false,
    "ein.tags": "worksheet-0",
    "slideshow": {
     "slide_type": "-"
    }
   },
   "outputs": [],
   "source": [
    "# limit symbols to common a-z and other word symbols such as !#\n",
    "min_symbol = 32                 # !\n",
    "max_symbol = 122                # z\n",
    "vocabulary_size = int(max_symbol - min_symbol + 2)\n",
    "max_tag_length = 15\n",
    "\n",
    "# path definitions\n",
    "data_folder = \"./ilya_data\"\n",
    "model_tagPredictor_save = \"./ilya_model/model_tagPredictor\"\n",
    "global_param = \"./ilya_model/global_param\"\n",
    "model_autoencoder_save = \"./ilya_model/model_autoencoder\""
   ]
  },
  {
   "cell_type": "code",
   "execution_count": 6,
   "metadata": {
    "autoscroll": false,
    "collapsed": false,
    "ein.hycell": false,
    "ein.tags": "worksheet-0",
    "slideshow": {
     "slide_type": "-"
    }
   },
   "outputs": [],
   "source": [
    "def word_to_nums(w):\n",
    "    \"\"\"convert words to number format\"\"\"\n",
    "    return [ord(c) for c in w]\n",
    "\n",
    "def convert_string_to_numeric(string_to_convert, max_tag_length=15):\n",
    "    \"\"\"\n",
    "    __ Parameters __\n",
    "    [str] string_to_convert: string to represent as an integer list\n",
    "\n",
    "    __ Description __\n",
    "    converts a string to it's numeric list representation. handles a-z and !#$...etc\n",
    "    it is padded to have a length of \"max_tag_length\" trimming any exess or padding empty spaces with 0\n",
    "\n",
    "    __ Return __\n",
    "    [int-list] numeric_representation: of string\n",
    "    \"\"\"\n",
    "\n",
    "    # 1 - cast char to integer\n",
    "    numeric_representation = np.array([ord(char) for char in string_to_convert])\n",
    "\n",
    "    # 2 - to being enumerating from zero, remove the offest for the first allowed character\n",
    "    offset = 32\n",
    "    numeric_representation = numeric_representation - offset\n",
    "\n",
    "    # 2 - pad to \"max_tag_length\" - empty spaces are filled with 0's - excess characters are trimmed\n",
    "    numeric_representation = pad_sequences([numeric_representation], max_tag_length, truncating='post', padding='post')[0]\n",
    "    \n",
    "    return numeric_representation\n",
    "\n",
    "def predict(tag, model, vocabulary_size, max_tag_length, output_labels):\n",
    "    \"\"\"\n",
    "    __ Parameters __\n",
    "    [str] word: word to predict\n",
    "    [keras] model: model to use to predict word\n",
    "    [int] vocabulary_size: vocabularly size used to encode the tags during training\n",
    "\n",
    "    __ Description __\n",
    "    returns prediction array for the given tag\n",
    "\n",
    "    __ Return __\n",
    "    [int] output_numeric, [str] output_string, [arr] probabilities\n",
    "    \"\"\"\n",
    "    \n",
    "    # 1 - encode the tag as an integer\n",
    "    tag_integer = convert_string_to_numeric(tag)\n",
    "        \n",
    "    # 3 - run prediction\n",
    "    raw_prediction = model.predict(tag_integer)\n",
    "    \n",
    "    # 4 - create array of the form [0, 1, 0 ,0] to indicate highest value\n",
    "    output_numeric = np.argmax(raw_prediction[0])\n",
    "    output_string = output_labels[output_numeric]\n",
    "    \n",
    "    return output_numeric, output_string, raw_prediction[0]\n",
    "\n",
    "def save_parameters(lb, vocabulary_size, max_input_length,\n",
    "                    parameter_file=\"./ilya_model/global_param\"):\n",
    "    \"\"\"\n",
    "    __ Parameters __\n",
    "    [LabelBinarizer] lb: sklearn.preprocessing.LabelBinarizer that was used to create unique binaries from list of strings (output)\n",
    "    [int] vocabulary_size: vocabularly size used to encode input during training (input)\n",
    "    [int] max_input_length: length of the input (input)\n",
    "    [str] parameter_file: location to save data\n",
    "\n",
    "    __ Description __\n",
    "    stores all the parameters used by the model\n",
    "    \"\"\"\n",
    "\n",
    "    # 1 - extract all the binary labels\n",
    "    output_map = lb.classes_\n",
    "\n",
    "    # 2 - dump to file\n",
    "    with open(\"./ilya_model/global_param\", \"wb\") as fout:\n",
    "        pickle.dump({\"Output_Map\": output_map,\n",
    "                     \"Vocabulary_Size\": vocabulary_size,\n",
    "                     \"Max_Input_Length\": max_input_length},\n",
    "                    fout)\n",
    "\n",
    "def load_parameters(parameter_file=\"./ilya_model/global_param\"):\n",
    "    \"\"\"\n",
    "    __ Parameters __\n",
    "    [str] parameter_file: file to load from\n",
    "    \n",
    "    __ Description __\n",
    "    loads parameters to work with model\n",
    "\n",
    "    __ Return __\n",
    "    [list-str] output: ordered list of string output [\"description\", \"label\"]\n",
    "    \"\"\"\n",
    "    with open(\"./ilya_model/global_param\", \"rb\") as fin:\n",
    "        data = pickle.load(fin)\n",
    "\n",
    "    vocabulary_size = data[\"Vocabulary_Size\"]\n",
    "    max_input_length = data[\"Max_Input_Length\"]\n",
    "    output_labels = data[\"Output_Map\"]\n",
    "    \n",
    "    return vocabulary_size, max_input_length, output_labels"
   ]
  },
  {
   "cell_type": "code",
   "execution_count": null,
   "metadata": {
    "autoscroll": false,
    "collapsed": false,
    "ein.hycell": false,
    "ein.tags": "worksheet-0",
    "slideshow": {
     "slide_type": "-"
    }
   },
   "outputs": [],
   "source": [
    "#✘ ✘ ✘ ✘ ✘ ✘ ✘ ✘ ✘ ✘ ✘ ✘ ✘ ✘ ✘ ✘ ✘ ✘ ✘ ✘ ✘ Formatting the data ✘ ✘ ✘ ✘ ✘ ✘ ✘ ✘ ✘ ✘ ✘ ✘ ✘ ✘ ✘ ✘ ✘ ✘ ✘ ✘ ✘\n",
    "# - SKIP TO \"Load prepared data ← avoids running code\" if datasets are ready\n",
    "\n",
    "%time\n",
    "data_file = \"CPU.csv\"\n",
    "tags = []                       # some kind of information about device\n",
    "tags_numeric = []               # tag represetnation in number form\n",
    "field = []                   # \"Description\", \"Brand\" or \"Part Number\"\n",
    "\n",
    "# 1 - open data file, which has the columns [tag, field, irlv, irlv, irlv]\n",
    "with open(\"%s/%s\" %(data_folder, data_file), 'rnd') as file:\n",
    "    reader = csv.reader(file)\n",
    "    for i, row in enumerate(reader):\n",
    "        \n",
    "        # a - get number of columns based on the number in first row\n",
    "        if (i==0):\n",
    "            n_columns = len(row)\n",
    "\n",
    "        # b - read in colums\n",
    "        temp_tags = row[0]\n",
    "        temp_tag_numeric = np.array(word_to_nums(temp_tags))\n",
    "        temp_field = row[1]\n",
    "        temp_field_numeric = np.array(word_to_nums(temp_field))\n",
    "\n",
    "        # c - skip over bad data\n",
    "        if any(temp_tag_numeric < min_symbol) or any(temp_tag_numeric > max_symbol):\n",
    "            continue\n",
    "        if (any(np.array(word_to_nums(temp_field)) > max_symbol)\n",
    "            or any( temp_field_numeric > max_symbol)):\n",
    "            continue\n",
    "        if n_columns != len(row):\n",
    "            continue\n",
    "\n",
    "        # d - store data\n",
    "        tags.append(temp_tags)\n",
    "        field.append(temp_field)\n",
    "        tags_numeric.append(temp_tag_numeric)\n",
    "        \n",
    "# 2 - import some noise data\n",
    "irr = np.load(os.path.join(data_folder, \"irrelevant_text_training.npy\"))\n",
    "\n",
    "for w in irr:\n",
    "    # a - convert to numeric format\n",
    "    temp_tag_numeric = np.array(word_to_nums(w))\n",
    "\n",
    "    # b - skip empty word and bad formatting\n",
    "    if w=='':\n",
    "        continue\n",
    "    if any(temp_tag_numeric<min_symbol) or any(temp_tag_numeric>max_symbol):\n",
    "        continue\n",
    "\n",
    "    # c - add noise to fields\n",
    "    tags.append(w)\n",
    "    field.append('Irrelevant')\n",
    "    tags_numeric.append(temp_tag_numeric)\n",
    "\n",
    "# 3 - write all data to file for easy access\n",
    "all_fields = list(set(field))   # {'Brand', 'Description', 'Part_number'}\n",
    "data = {\n",
    "    \"tags\": tags,               # all extracted tags\n",
    "    \"field\": field,             # fields that the tags are under\n",
    "    \"tags_numeric\": tags_numeric, # numeric representation\n",
    "    \"all_fields\": all_fields # {'Brand', 'Description', 'Part_number'}\n",
    "}\n",
    "with open('ilya_dataML', 'wb') as fout:\n",
    "    pickle.dump(data, fout)"
   ]
  },
  {
   "cell_type": "markdown",
   "metadata": {
    "ein.tags": "worksheet-0",
    "slideshow": {
     "slide_type": "-"
    }
   },
   "source": [
    "# ~~~~~~~~~~~~~~~~~~~~~~~~~~~~~~~~~~~~~~~~\n",
    "Load prepared data ← avoids running code above\n",
    "~~~~~~~~~~~~~~~~~~~~~~~~~~~~~~~~~~~~~~~~"
   ]
  },
  {
   "cell_type": "code",
   "execution_count": 7,
   "metadata": {
    "autoscroll": false,
    "collapsed": false,
    "ein.hycell": false,
    "ein.tags": "worksheet-0",
    "slideshow": {
     "slide_type": "-"
    }
   },
   "outputs": [
    {
     "name": "stdout",
     "output_type": "stream",
     "text": [
      "CPU times: user 4 µs, sys: 1 µs, total: 5 µs\n",
      "Wall time: 7.87 µs\n"
     ]
    }
   ],
   "source": [
    "%time\n",
    "# 1 - load in data avoiding running the above code\n",
    "with open('./ilya_model/data_verbose', 'rb') as fin:\n",
    "    data = pickle.load(fin)\n",
    "\n",
    "# 2 - extract tags and fields\n",
    "tags = data[\"tags\"]\n",
    "fields = data[\"field\"]\n",
    "all_fields = data[\"all_fields\"]"
   ]
  },
  {
   "cell_type": "markdown",
   "metadata": {
    "ein.tags": "worksheet-0",
    "slideshow": {
     "slide_type": "-"
    }
   },
   "source": [
    "# Preparing numeric representation of dataset"
   ]
  },
  {
   "cell_type": "code",
   "execution_count": 8,
   "metadata": {
    "autoscroll": false,
    "collapsed": false,
    "ein.hycell": false,
    "ein.tags": "worksheet-0",
    "slideshow": {
     "slide_type": "-"
    }
   },
   "outputs": [
    {
     "name": "stdout",
     "output_type": "stream",
     "text": [
      "CPU times: user 3 µs, sys: 0 ns, total: 3 µs\n",
      "Wall time: 8.11 µs\n"
     ]
    }
   ],
   "source": [
    "%time \n",
    "# 1 - encode each tag as a list of integers of length \"max_tag_length\"\n",
    "data_in = [convert_string_to_numeric(tag, max_tag_length) for tag in tags]\n",
    "\n",
    "# 2 - build output array. taking a 1D array of string\n",
    "# (e.g.['Brand', 'Part_number', 'Description', ..., 'Irrelevant')\n",
    "# and converting it to a 0s and 1s matrix i.e. [[1,0,0,0],[0,1,0,0],[0,0,1,0],[0,0,0,1]]\n",
    "data_out = np.array(fields)\n",
    "lb = LabelBinarizer()\n",
    "data_out = lb.fit_transform(data_out)\n",
    "\n",
    "# 3 - save parameters\n",
    "save_parameters(lb, vocabulary_size, max_tag_length)\n",
    "np.save(\"./ilya_model/data_in.npy\", data_in)\n",
    "np.save(\"./ilya_model/data_out.npy\", data_out)"
   ]
  },
  {
   "cell_type": "markdown",
   "metadata": {
    "ein.tags": "worksheet-0",
    "slideshow": {
     "slide_type": "-"
    }
   },
   "source": [
    "# Build neural network"
   ]
  },
  {
   "cell_type": "code",
   "execution_count": 9,
   "metadata": {
    "autoscroll": false,
    "collapsed": false,
    "ein.hycell": false,
    "ein.tags": "worksheet-0",
    "slideshow": {
     "slide_type": "-"
    }
   },
   "outputs": [
    {
     "name": "stdout",
     "output_type": "stream",
     "text": [
      "CPU times: user 3 µs, sys: 0 ns, total: 3 µs\n",
      "Wall time: 8.11 µs\n"
     ]
    },
    {
     "ename": "AttributeError",
     "evalue": "'list' object has no attribute 'shape'",
     "output_type": "error",
     "traceback": [
      "\u001b[0;31m\u001b[0m",
      "\u001b[0;31mAttributeError\u001b[0mTraceback (most recent call last)",
      "\u001b[0;32m<ipython-input-9-708cc87a4c33>\u001b[0m in \u001b[0;36m<module>\u001b[0;34m\u001b[0m\n\u001b[1;32m      4\u001b[0m \u001b[0;31m########################################\u001b[0m\u001b[0;34m\u001b[0m\u001b[0;34m\u001b[0m\u001b[0;34m\u001b[0m\u001b[0m\n\u001b[1;32m      5\u001b[0m \u001b[0;31m# 1 - declare size of input\u001b[0m\u001b[0;34m\u001b[0m\u001b[0;34m\u001b[0m\u001b[0;34m\u001b[0m\u001b[0m\n\u001b[0;32m----> 6\u001b[0;31m \u001b[0mdim_in\u001b[0m \u001b[0;34m=\u001b[0m \u001b[0mdata_in\u001b[0m\u001b[0;34m.\u001b[0m\u001b[0mshape\u001b[0m\u001b[0;34m[\u001b[0m\u001b[0;36m1\u001b[0m\u001b[0;34m]\u001b[0m    \u001b[0;31m# each input tag will be a list of 15 numbers\u001b[0m\u001b[0;34m\u001b[0m\u001b[0;34m\u001b[0m\u001b[0m\n\u001b[0m\u001b[1;32m      7\u001b[0m \u001b[0mdim_out\u001b[0m \u001b[0;34m=\u001b[0m \u001b[0mdata_out\u001b[0m\u001b[0;34m.\u001b[0m\u001b[0mshape\u001b[0m\u001b[0;34m[\u001b[0m\u001b[0;36m1\u001b[0m\u001b[0;34m]\u001b[0m  \u001b[0;31m# each output will be an array of 4 values [0, 0, 0, 1]\u001b[0m\u001b[0;34m\u001b[0m\u001b[0;34m\u001b[0m\u001b[0m\n\u001b[1;32m      8\u001b[0m \u001b[0;34m\u001b[0m\u001b[0m\n",
      "\u001b[0;31mAttributeError\u001b[0m: 'list' object has no attribute 'shape'"
     ]
    }
   ],
   "source": [
    "%time\n",
    "########################################\n",
    "embedding_dim = 80            # dimension of the vector that each input is cast into\n",
    "########################################\n",
    "# 1 - declare size of input\n",
    "dim_in = data_in.shape[1]    # each input tag will be a list of 15 numbers\n",
    "dim_out = data_out.shape[1]  # each output will be an array of 4 values [0, 0, 0, 1]\n",
    "\n",
    "# 2 - INPUT -> convert input sequences to embedded vectors → flatten 2D array [[s1w1, s1w2, ...], [s2w1, s2w2, ...], ...] → Normalize\n",
    "inputs = ks.Input((dim_in,))\n",
    "x = ks.layers.Embedding(vocabulary_size, embedding_dim, input_length=dim_in, name='embedding')(inputs)\n",
    "x = ks.layers.Flatten()(x)\n",
    "x = ks.layers.BatchNormalization()(x)\n",
    "\n",
    "# 3 - 1st Hidden Layer (with l1 regularizer, penalising large weight values to avoid overfitting) → Activate\n",
    "x = ks.layers.Dense(2*dim_in, kernel_regularizer=ks.regularizers.l1(0.05), name='first_dense')(x)\n",
    "x = ks.layers.LeakyReLU(0.1)(x)\n",
    "\n",
    "# 5 - 2nd Hidden Layer → Activate → Normalize → Go to output\n",
    "x = ks.layers.Dense(2*dim_in, kernel_regularizer=ks.regularizers.l1(0.05), name='second_dense')(x)\n",
    "x = ks.layers.LeakyReLU(0.1)(x)\n",
    "x = ks.layers.BatchNormalization()(x)\n",
    "x = ks.layers.Dense(dim_out, activation='sigmoid', name='output')(x)\n",
    "\n",
    "# 6 - create model for training\n",
    "model = ks.Model(inputs=inputs, outputs=x)\n",
    "model.compile(loss=ks.losses.categorical_crossentropy, optimizer='adam')\n",
    "print(model.summary())\n",
    "\n",
    "model.save(model_tagPredictor_save)"
   ]
  },
  {
   "cell_type": "markdown",
   "metadata": {
    "ein.tags": "worksheet-0",
    "slideshow": {
     "slide_type": "-"
    }
   },
   "source": [
    "# Train NN and save logs for tensorboard"
   ]
  },
  {
   "cell_type": "code",
   "execution_count": 19,
   "metadata": {
    "autoscroll": false,
    "collapsed": false,
    "ein.hycell": false,
    "ein.tags": "worksheet-0",
    "slideshow": {
     "slide_type": "-"
    }
   },
   "outputs": [
    {
     "name": "stdout",
     "output_type": "stream",
     "text": [
      "Train on 41939 samples, validate on 2208 samples\n",
      "Epoch 1/25\n"
     ]
    },
    {
     "name": "stdout",
     "output_type": "stream",
     "text": [
      " - 2s - loss: 41.3675 - val_loss: 17.4004\n"
     ]
    },
    {
     "name": "stdout",
     "output_type": "stream",
     "text": [
      "Epoch 2/25\n"
     ]
    },
    {
     "name": "stdout",
     "output_type": "stream",
     "text": [
      " - 1s - loss: 8.7356 - val_loss: 5.2073\n"
     ]
    },
    {
     "name": "stdout",
     "output_type": "stream",
     "text": [
      "Epoch 3/25\n"
     ]
    },
    {
     "name": "stdout",
     "output_type": "stream",
     "text": [
      " - 1s - loss: 4.1263 - val_loss: 3.4666\n"
     ]
    },
    {
     "name": "stdout",
     "output_type": "stream",
     "text": [
      "Epoch 4/25\n"
     ]
    },
    {
     "name": "stdout",
     "output_type": "stream",
     "text": [
      " - 1s - loss: 2.8316 - val_loss: 2.3743\n"
     ]
    },
    {
     "name": "stdout",
     "output_type": "stream",
     "text": [
      "Epoch 5/25\n"
     ]
    },
    {
     "name": "stdout",
     "output_type": "stream",
     "text": [
      " - 1s - loss: 1.9066 - val_loss: 1.5680\n"
     ]
    },
    {
     "name": "stdout",
     "output_type": "stream",
     "text": [
      "Epoch 6/25\n"
     ]
    },
    {
     "name": "stdout",
     "output_type": "stream",
     "text": [
      " - 1s - loss: 1.2278 - val_loss: 0.9920\n"
     ]
    },
    {
     "name": "stdout",
     "output_type": "stream",
     "text": [
      "Epoch 7/25\n"
     ]
    },
    {
     "name": "stdout",
     "output_type": "stream",
     "text": [
      " - 1s - loss: 0.8072 - val_loss: 0.7004\n"
     ]
    },
    {
     "name": "stdout",
     "output_type": "stream",
     "text": [
      "Epoch 8/25\n"
     ]
    },
    {
     "name": "stdout",
     "output_type": "stream",
     "text": [
      " - 1s - loss: 0.6098 - val_loss: 0.6016\n"
     ]
    },
    {
     "name": "stdout",
     "output_type": "stream",
     "text": [
      "Epoch 9/25\n"
     ]
    },
    {
     "name": "stdout",
     "output_type": "stream",
     "text": [
      " - 1s - loss: 0.5438 - val_loss: 0.5391\n"
     ]
    },
    {
     "name": "stdout",
     "output_type": "stream",
     "text": [
      "Epoch 10/25\n"
     ]
    },
    {
     "name": "stdout",
     "output_type": "stream",
     "text": [
      " - 1s - loss: 0.5144 - val_loss: 0.4955\n"
     ]
    },
    {
     "name": "stdout",
     "output_type": "stream",
     "text": [
      "Epoch 11/25\n"
     ]
    },
    {
     "name": "stdout",
     "output_type": "stream",
     "text": [
      " - 1s - loss: 0.4816 - val_loss: 0.4721\n"
     ]
    },
    {
     "name": "stdout",
     "output_type": "stream",
     "text": [
      "Epoch 12/25\n"
     ]
    },
    {
     "name": "stdout",
     "output_type": "stream",
     "text": [
      " - 1s - loss: 0.4613 - val_loss: 0.4583\n"
     ]
    },
    {
     "name": "stdout",
     "output_type": "stream",
     "text": [
      "Epoch 13/25\n"
     ]
    },
    {
     "name": "stdout",
     "output_type": "stream",
     "text": [
      " - 1s - loss: 0.4487 - val_loss: 0.4426\n"
     ]
    },
    {
     "name": "stdout",
     "output_type": "stream",
     "text": [
      "Epoch 14/25\n"
     ]
    },
    {
     "name": "stdout",
     "output_type": "stream",
     "text": [
      " - 1s - loss: 0.4331 - val_loss: 0.4302\n"
     ]
    },
    {
     "name": "stdout",
     "output_type": "stream",
     "text": [
      "Epoch 15/25\n"
     ]
    },
    {
     "name": "stdout",
     "output_type": "stream",
     "text": [
      " - 1s - loss: 0.4255 - val_loss: 0.4207\n"
     ]
    },
    {
     "name": "stdout",
     "output_type": "stream",
     "text": [
      "Epoch 16/25\n"
     ]
    },
    {
     "name": "stdout",
     "output_type": "stream",
     "text": [
      " - 1s - loss: 0.4180 - val_loss: 0.4138\n"
     ]
    },
    {
     "name": "stdout",
     "output_type": "stream",
     "text": [
      "Epoch 17/25\n"
     ]
    },
    {
     "name": "stdout",
     "output_type": "stream",
     "text": [
      " - 1s - loss: 0.4094 - val_loss: 0.4084\n"
     ]
    },
    {
     "name": "stdout",
     "output_type": "stream",
     "text": [
      "Epoch 18/25\n"
     ]
    },
    {
     "name": "stdout",
     "output_type": "stream",
     "text": [
      " - 1s - loss: 0.4038 - val_loss: 0.4054\n"
     ]
    },
    {
     "name": "stdout",
     "output_type": "stream",
     "text": [
      "Epoch 19/25\n"
     ]
    },
    {
     "name": "stdout",
     "output_type": "stream",
     "text": [
      " - 1s - loss: 0.3995 - val_loss: 0.4046\n"
     ]
    },
    {
     "name": "stdout",
     "output_type": "stream",
     "text": [
      "Epoch 20/25\n"
     ]
    },
    {
     "name": "stdout",
     "output_type": "stream",
     "text": [
      " - 1s - loss: 0.3955 - val_loss: 0.3983\n"
     ]
    },
    {
     "name": "stdout",
     "output_type": "stream",
     "text": [
      "Epoch 21/25\n"
     ]
    },
    {
     "name": "stdout",
     "output_type": "stream",
     "text": [
      " - 1s - loss: 0.3927 - val_loss: 0.4047\n"
     ]
    },
    {
     "name": "stdout",
     "output_type": "stream",
     "text": [
      "Epoch 22/25\n"
     ]
    },
    {
     "name": "stdout",
     "output_type": "stream",
     "text": [
      " - 1s - loss: 0.3893 - val_loss: 0.3863\n"
     ]
    },
    {
     "name": "stdout",
     "output_type": "stream",
     "text": [
      "Epoch 23/25\n"
     ]
    },
    {
     "name": "stdout",
     "output_type": "stream",
     "text": [
      " - 1s - loss: 0.3865 - val_loss: 0.3958\n"
     ]
    },
    {
     "name": "stdout",
     "output_type": "stream",
     "text": [
      "Epoch 24/25\n"
     ]
    },
    {
     "name": "stdout",
     "output_type": "stream",
     "text": [
      " - 1s - loss: 0.3795 - val_loss: 0.3875\n"
     ]
    },
    {
     "name": "stdout",
     "output_type": "stream",
     "text": [
      "Epoch 25/25\n"
     ]
    },
    {
     "name": "stdout",
     "output_type": "stream",
     "text": [
      " - 1s - loss: 0.3782 - val_loss: 0.3821\n"
     ]
    },
    {
     "ename": "AttributeError",
     "evalue": "'History' object has no attribute 'history_log'",
     "output_type": "error",
     "traceback": [
      "\u001b[0;31m\u001b[0m",
      "\u001b[0;31mAttributeError\u001b[0mTraceback (most recent call last)",
      "\u001b[0;32m<ipython-input-19-4903cc574daf>\u001b[0m in \u001b[0;36m<module>\u001b[0;34m\u001b[0m\n\u001b[1;32m     18\u001b[0m \u001b[0;31m# 4 plot training history_log\u001b[0m\u001b[0;34m\u001b[0m\u001b[0;34m\u001b[0m\u001b[0;34m\u001b[0m\u001b[0m\n\u001b[1;32m     19\u001b[0m \u001b[0mfig\u001b[0m\u001b[0;34m,\u001b[0m \u001b[0max\u001b[0m \u001b[0;34m=\u001b[0m \u001b[0mplt\u001b[0m\u001b[0;34m.\u001b[0m\u001b[0msubplots\u001b[0m\u001b[0;34m(\u001b[0m\u001b[0mnrows\u001b[0m\u001b[0;34m=\u001b[0m\u001b[0;36m1\u001b[0m\u001b[0;34m,\u001b[0m \u001b[0mncols\u001b[0m\u001b[0;34m=\u001b[0m\u001b[0;36m1\u001b[0m\u001b[0;34m)\u001b[0m\u001b[0;34m\u001b[0m\u001b[0;34m\u001b[0m\u001b[0m\n\u001b[0;32m---> 20\u001b[0;31m \u001b[0max\u001b[0m\u001b[0;34m.\u001b[0m\u001b[0mplot\u001b[0m\u001b[0;34m(\u001b[0m\u001b[0mhistory_log\u001b[0m\u001b[0;34m.\u001b[0m\u001b[0mhistory_log\u001b[0m\u001b[0;34m[\u001b[0m\u001b[0;34m\"loss\"\u001b[0m\u001b[0;34m]\u001b[0m\u001b[0;34m)\u001b[0m\u001b[0;34m\u001b[0m\u001b[0;34m\u001b[0m\u001b[0m\n\u001b[0m\u001b[1;32m     21\u001b[0m \u001b[0max\u001b[0m\u001b[0;34m.\u001b[0m\u001b[0mplot\u001b[0m\u001b[0;34m(\u001b[0m\u001b[0mhistory_log\u001b[0m\u001b[0;34m.\u001b[0m\u001b[0mhistory_log\u001b[0m\u001b[0;34m[\u001b[0m\u001b[0;34m\"val_loss\"\u001b[0m\u001b[0;34m]\u001b[0m\u001b[0;34m,\u001b[0m \u001b[0mcolor\u001b[0m\u001b[0;34m=\u001b[0m\u001b[0;34m\"C4\"\u001b[0m\u001b[0;34m)\u001b[0m\u001b[0;34m\u001b[0m\u001b[0;34m\u001b[0m\u001b[0m\n\u001b[1;32m     22\u001b[0m \u001b[0max\u001b[0m\u001b[0;34m.\u001b[0m\u001b[0mset_title\u001b[0m\u001b[0;34m(\u001b[0m\u001b[0;34m\"Training history_log\"\u001b[0m\u001b[0;34m)\u001b[0m\u001b[0;34m\u001b[0m\u001b[0;34m\u001b[0m\u001b[0m\n",
      "\u001b[0;31mAttributeError\u001b[0m: 'History' object has no attribute 'history_log'"
     ]
    },
    {
     "data": {
      "image/png": "[encoded data removed]",
      "text/plain": [
       "<Figure size 600x400 with 1 Axes>"
      ]
     },
     "metadata": {},
     "output_type": "display_data"
    },
    {
     "ename": "AttributeError",
     "evalue": "'History' object has no attribute 'history_log'",
     "output_type": "error",
     "traceback": [
      "\u001b[0;31m\u001b[0m",
      "\u001b[0;31mAttributeError\u001b[0mTraceback (most recent call last)",
      "\u001b[0;32m<ipython-input-19-4903cc574daf>\u001b[0m in \u001b[0;36m<module>\u001b[0;34m\u001b[0m\n\u001b[1;32m     18\u001b[0m \u001b[0;31m# 4 plot training history_log\u001b[0m\u001b[0;34m\u001b[0m\u001b[0;34m\u001b[0m\u001b[0;34m\u001b[0m\u001b[0m\n\u001b[1;32m     19\u001b[0m \u001b[0mfig\u001b[0m\u001b[0;34m,\u001b[0m \u001b[0max\u001b[0m \u001b[0;34m=\u001b[0m \u001b[0mplt\u001b[0m\u001b[0;34m.\u001b[0m\u001b[0msubplots\u001b[0m\u001b[0;34m(\u001b[0m\u001b[0mnrows\u001b[0m\u001b[0;34m=\u001b[0m\u001b[0;36m1\u001b[0m\u001b[0;34m,\u001b[0m \u001b[0mncols\u001b[0m\u001b[0;34m=\u001b[0m\u001b[0;36m1\u001b[0m\u001b[0;34m)\u001b[0m\u001b[0;34m\u001b[0m\u001b[0;34m\u001b[0m\u001b[0m\n\u001b[0;32m---> 20\u001b[0;31m \u001b[0max\u001b[0m\u001b[0;34m.\u001b[0m\u001b[0mplot\u001b[0m\u001b[0;34m(\u001b[0m\u001b[0mhistory_log\u001b[0m\u001b[0;34m.\u001b[0m\u001b[0mhistory_log\u001b[0m\u001b[0;34m[\u001b[0m\u001b[0;34m\"loss\"\u001b[0m\u001b[0;34m]\u001b[0m\u001b[0;34m)\u001b[0m\u001b[0;34m\u001b[0m\u001b[0;34m\u001b[0m\u001b[0m\n\u001b[0m\u001b[1;32m     21\u001b[0m \u001b[0max\u001b[0m\u001b[0;34m.\u001b[0m\u001b[0mplot\u001b[0m\u001b[0;34m(\u001b[0m\u001b[0mhistory_log\u001b[0m\u001b[0;34m.\u001b[0m\u001b[0mhistory_log\u001b[0m\u001b[0;34m[\u001b[0m\u001b[0;34m\"val_loss\"\u001b[0m\u001b[0;34m]\u001b[0m\u001b[0;34m,\u001b[0m \u001b[0mcolor\u001b[0m\u001b[0;34m=\u001b[0m\u001b[0;34m\"C4\"\u001b[0m\u001b[0;34m)\u001b[0m\u001b[0;34m\u001b[0m\u001b[0;34m\u001b[0m\u001b[0m\n\u001b[1;32m     22\u001b[0m \u001b[0max\u001b[0m\u001b[0;34m.\u001b[0m\u001b[0mset_title\u001b[0m\u001b[0;34m(\u001b[0m\u001b[0;34m\"Training history_log\"\u001b[0m\u001b[0;34m)\u001b[0m\u001b[0;34m\u001b[0m\u001b[0;34m\u001b[0m\u001b[0m\n",
      "\u001b[0;31mAttributeError\u001b[0m: 'History' object has no attribute 'history_log'"
     ]
    }
   ],
   "source": [
    "########################################\n",
    "training_name = \"./ilya_model/tag_predictor_14thJune\"\n",
    "epochs = 25\n",
    "########################################\n",
    "# callbacks = [ks.callbacks.TensorBoard(embeddings_freq=10, embeddings_layer_names='embedding',\n",
    "# embeddings_data=testing_in[:100, :])]\n",
    "# 1 - Prepare training and testing datasets: Randomise the word inputs,  Select 90% for training, and 10% for testing\n",
    "(in_train, in_test, out_train, out_test) = train_test_split(data_in, data_out, test_size = 0.1, random_state=42, shuffle=True)\n",
    "\n",
    "# 2 - load the compiled model and begin training\n",
    "model = ks.models.load_model(model_tagPredictor_save)\n",
    "history_log = model.fit(in_train, out_train, verbose=2, epochs=epochs,\n",
    "          batch_size=1000,validation_split=0.05)#, callbacks=callbacks)  # starts training\n",
    "            \n",
    "# 3 - save the weights\n",
    "model.save(training_name)\n",
    "\n",
    "# 4 plot training history_log\n",
    "fig, ax = plt.subplots(nrows=1, ncols=1)\n",
    "ax.plot(history_log.history_log[\"loss\"])\n",
    "ax.plot(history_log.history_log[\"val_loss\"], color=\"C4\")\n",
    "ax.set_title(\"Training history_log\")\n",
    "ax.set_xlabel(\"Epoch\")\n",
    "ax.set_ylabel(\"Loss\")\n",
    "ax.legend([\"Train\", \"Valdiation\"])\n",
    "\n",
    "plt.show()"
   ]
  },
  {
   "cell_type": "markdown",
   "metadata": {
    "ein.tags": "worksheet-0",
    "slideshow": {
     "slide_type": "-"
    }
   },
   "source": [
    "# Testing the model"
   ]
  },
  {
   "cell_type": "code",
   "execution_count": 12,
   "metadata": {
    "autoscroll": false,
    "collapsed": false,
    "ein.hycell": false,
    "ein.tags": "worksheet-0",
    "slideshow": {
     "slide_type": "-"
    }
   },
   "outputs": [
    {
     "name": "stdout",
     "output_type": "stream",
     "text": [
      "0.0 %\n",
      "With managable errors:  0.0 %\n"
     ]
    }
   ],
   "source": [
    "########################################\n",
    "n_tests = 1000\n",
    "########################################\n",
    "model = ks.models.load_model(training_name)\n",
    "vocabulary_size, max_input_length, output_labels = load_parameters(global_param)\n",
    "\n",
    "n_successes = 0\n",
    "n_managable_errors = 0\n",
    "i = 0\n",
    "while i < n_tests:\n",
    "    try:\n",
    "        i += 1\n",
    "\n",
    "        # 1 - extract random value in string format\n",
    "        rnd = np.random.randint(0, len(tags))\n",
    "        tag = tags[rnd]\n",
    "        true_field = fields[rnd]\n",
    "        \n",
    "        # 2 - predict and compare\n",
    "        field_numeric, field_string, raw_prediction = predict(tag, model, vocabulary_size, max_tag_length, output_labels)\n",
    "        \n",
    "        # 3 - run prediction\n",
    "        if (field_string == true_field):\n",
    "            n_successes += 1\n",
    "        elif ({field_numeric, true_field} == {\"Description\", \"Irrelevant\"} or tag==\"AMD\"):\n",
    "            n_managable_errors += 1\n",
    "    except:\n",
    "        pass\n",
    "\n",
    "print(n_successes/n_tests*100, '%')\n",
    "print('With managable errors: ', (n_managable_errors + n_successes)/n_tests*100, '%')"
   ]
  },
  {
   "cell_type": "code",
   "execution_count": 29,
   "metadata": {
    "autoscroll": false,
    "collapsed": false,
    "ein.hycell": false,
    "ein.tags": "worksheet-0",
    "slideshow": {
     "slide_type": "-"
    }
   },
   "outputs": [
    {
     "name": "stdout",
     "output_type": "stream",
     "text": [
      "Epoch 1/1\n"
     ]
    },
    {
     "name": "stdout",
     "output_type": "stream",
     "text": [
      "\r",
      " 32/200 [===>..........................] - ETA: 5s - loss: 71.7651"
     ]
    },
    {
     "name": "stdout",
     "output_type": "stream",
     "text": [
      "\b\b\b\b\b\b\b\b\b\b\b\b\b\b\b\b\b\b\b\b\b\b\b\b\b\b\b\b\b\b\b\b\b\b\b\b\b\b\b\b\b\b\b\b\b\b\b\b\b\b\b\b\b\b\b\b\b\b\b\b\b\b\b\b\b\b\r",
      "200/200 [==============================] - 1s 5ms/step - loss: 67.7089\n"
     ]
    },
    {
     "name": "stdout",
     "output_type": "stream",
     "text": [
      "\t\t\t\t\t37\n",
      "Epoch 1/1\n",
      "\r",
      " 32/200 [===>..........................] - ETA: 0s - loss: 60.5499"
     ]
    },
    {
     "name": "stdout",
     "output_type": "stream",
     "text": [
      "\b\b\b\b\b\b\b\b\b\b\b\b\b\b\b\b\b\b\b\b\b\b\b\b\b\b\b\b\b\b\b\b\b\b\b\b\b\b\b\b\b\b\b\b\b\b\b\b\b\b\b\b\b\b\b\b\b\b\b\b\b\b\b\b\b\b\r",
      "200/200 [==============================] - 0s 164us/step - loss: 56.6002\n"
     ]
    },
    {
     "name": "stdout",
     "output_type": "stream",
     "text": [
      "\t\t\t\t\t40\n",
      "Epoch 1/1\n",
      "\r",
      " 32/200 [===>..........................] - ETA: 0s - loss: 50.1515"
     ]
    },
    {
     "name": "stdout",
     "output_type": "stream",
     "text": [
      "\b\b\b\b\b\b\b\b\b\b\b\b\b\b\b\b\b\b\b\b\b\b\b\b\b\b\b\b\b\b\b\b\b\b\b\b\b\b\b\b\b\b\b\b\b\b\b\b\b\b\b\b\b\b\b\b\b\b\b\b\b\b\b\b\b\b\r",
      "200/200 [==============================] - 0s 164us/step - loss: 46.6027\n"
     ]
    },
    {
     "name": "stdout",
     "output_type": "stream",
     "text": [
      "\t\t\t\t\t49\n",
      "Epoch 1/1\n",
      "\r",
      " 32/200 [===>..........................] - ETA: 0s - loss: 40.9145"
     ]
    },
    {
     "name": "stdout",
     "output_type": "stream",
     "text": [
      "\b\b\b\b\b\b\b\b\b\b\b\b\b\b\b\b\b\b\b\b\b\b\b\b\b\b\b\b\b\b\b\b\b\b\b\b\b\b\b\b\b\b\b\b\b\b\b\b\b\b\b\b\b\b\b\b\b\b\b\b\b\b\b\b\b\b\r",
      "200/200 [==============================] - 0s 151us/step - loss: 37.7109\n"
     ]
    },
    {
     "name": "stdout",
     "output_type": "stream",
     "text": [
      "\t\t\t\t\t62\n",
      "Epoch 1/1\n",
      "\r",
      " 32/200 [===>..........................] - ETA: 0s - loss: 32.6381"
     ]
    },
    {
     "name": "stdout",
     "output_type": "stream",
     "text": [
      "\b\b\b\b\b\b\b\b\b\b\b\b\b\b\b\b\b\b\b\b\b\b\b\b\b\b\b\b\b\b\b\b\b\b\b\b\b\b\b\b\b\b\b\b\b\b\b\b\b\b\b\b\b\b\b\b\b\b\b\b\b\b\b\b\b\b\r",
      "200/200 [==============================] - 0s 184us/step - loss: 30.0249\n"
     ]
    },
    {
     "name": "stdout",
     "output_type": "stream",
     "text": [
      "\t\t\t\t\t66\n",
      "Epoch 1/1\n",
      "\r",
      " 32/200 [===>..........................] - ETA: 0s - loss: 25.5723"
     ]
    },
    {
     "name": "stdout",
     "output_type": "stream",
     "text": [
      "\b\b\b\b\b\b\b\b\b\b\b\b\b\b\b\b\b\b\b\b\b\b\b\b\b\b\b\b\b\b\b\b\b\b\b\b\b\b\b\b\b\b\b\b\b\b\b\b\b\b\b\b\b\b\b\b\b\b\b\b\b\b\b\b\b\b\r",
      "200/200 [==============================] - 0s 178us/step - loss: 23.3270\n"
     ]
    },
    {
     "name": "stdout",
     "output_type": "stream",
     "text": [
      "\t\t\t\t\t75\n",
      "Epoch 1/1\n",
      "\r",
      " 32/200 [===>..........................] - ETA: 0s - loss: 19.9256"
     ]
    },
    {
     "name": "stdout",
     "output_type": "stream",
     "text": [
      "\b\b\b\b\b\b\b\b\b\b\b\b\b\b\b\b\b\b\b\b\b\b\b\b\b\b\b\b\b\b\b\b\b\b\b\b\b\b\b\b\b\b\b\b\b\b\b\b\b\b\b\b\b\b\b\b\b\b\b\b\b\b\b\b\b\b\r",
      "200/200 [==============================] - 0s 151us/step - loss: 18.0123\n"
     ]
    },
    {
     "name": "stdout",
     "output_type": "stream",
     "text": [
      "\t\t\t\t\t78\n",
      "Epoch 1/1\n",
      "\r",
      " 32/200 [===>..........................] - ETA: 0s - loss: 15.2699"
     ]
    },
    {
     "name": "stdout",
     "output_type": "stream",
     "text": [
      "\b\b\b\b\b\b\b\b\b\b\b\b\b\b\b\b\b\b\b\b\b\b\b\b\b\b\b\b\b\b\b\b\b\b\b\b\b\b\b\b\b\b\b\b\b\b\b\b\b\b\b\b\b\b\b\b\b\b\b\b\b\b\b\b\b\b\r",
      "200/200 [==============================] - 0s 171us/step - loss: 13.7080\n"
     ]
    },
    {
     "name": "stdout",
     "output_type": "stream",
     "text": [
      "\t\t\t\t\t76\n",
      "Epoch 1/1\n",
      "\r",
      " 32/200 [===>..........................] - ETA: 0s - loss: 11.5525"
     ]
    },
    {
     "name": "stdout",
     "output_type": "stream",
     "text": [
      "\b\b\b\b\b\b\b\b\b\b\b\b\b\b\b\b\b\b\b\b\b\b\b\b\b\b\b\b\b\b\b\b\b\b\b\b\b\b\b\b\b\b\b\b\b\b\b\b\b\b\b\b\b\b\b\b\b\b\b\b\b\b\b\b\b\b\r",
      "200/200 [==============================] - 0s 157us/step - loss: 10.4226\n"
     ]
    },
    {
     "name": "stdout",
     "output_type": "stream",
     "text": [
      "\t\t\t\t\t76\n",
      "Epoch 1/1\n",
      "\r",
      " 32/200 [===>..........................] - ETA: 0s - loss: 8.8729"
     ]
    },
    {
     "name": "stdout",
     "output_type": "stream",
     "text": [
      "\b\b\b\b\b\b\b\b\b\b\b\b\b\b\b\b\b\b\b\b\b\b\b\b\b\b\b\b\b\b\b\b\b\b\b\b\b\b\b\b\b\b\b\b\b\b\b\b\b\b\b\b\b\b\b\b\b\b\b\b\b\b\b\b\b\r",
      "200/200 [==============================] - 0s 153us/step - loss: 8.3161\n"
     ]
    },
    {
     "name": "stdout",
     "output_type": "stream",
     "text": [
      "\t\t\t\t\t70\n",
      "Epoch 1/1\n",
      "\r",
      " 32/200 [===>..........................] - ETA: 0s - loss: 7.5152"
     ]
    },
    {
     "name": "stdout",
     "output_type": "stream",
     "text": [
      "\b\b\b\b\b\b\b\b\b\b\b\b\b\b\b\b\b\b\b\b\b\b\b\b\b\b\b\b\b\b\b\b\b\b\b\b\b\b\b\b\b\b\b\b\b\b\b\b\b\b\b\b\b\b\b\b\b\b\b\b\b\b\b\b\b\r",
      "200/200 [==============================] - 0s 159us/step - loss: 7.2697\n"
     ]
    },
    {
     "name": "stdout",
     "output_type": "stream",
     "text": [
      "\t\t\t\t\t70\n",
      "Epoch 1/1\n",
      "\r",
      " 32/200 [===>..........................] - ETA: 0s - loss: 6.8125"
     ]
    },
    {
     "name": "stdout",
     "output_type": "stream",
     "text": [
      "\b\b\b\b\b\b\b\b\b\b\b\b\b\b\b\b\b\b\b\b\b\b\b\b\b\b\b\b\b\b\b\b\b\b\b\b\b\b\b\b\b\b\b\b\b\b\b\b\b\b\b\b\b\b\b\b\b\b\b\b\b\b\b\b\b\r",
      "200/200 [==============================] - 0s 152us/step - loss: 6.6502\n"
     ]
    },
    {
     "name": "stdout",
     "output_type": "stream",
     "text": [
      "\t\t\t\t\t73\n",
      "Epoch 1/1\n",
      "\r",
      " 32/200 [===>..........................] - ETA: 0s - loss: 6.3627"
     ]
    },
    {
     "name": "stdout",
     "output_type": "stream",
     "text": [
      "\b\b\b\b\b\b\b\b\b\b\b\b\b\b\b\b\b\b\b\b\b\b\b\b\b\b\b\b\b\b\b\b\b\b\b\b\b\b\b\b\b\b\b\b\b\b\b\b\b\b\b\b\b\b\b\b\b\b\b\b\b\b\b\b\b\r",
      "200/200 [==============================] - 0s 172us/step - loss: 6.1797\n"
     ]
    },
    {
     "name": "stdout",
     "output_type": "stream",
     "text": [
      "\t\t\t\t\t74\n",
      "Epoch 1/1\n",
      "\r",
      " 32/200 [===>..........................] - ETA: 0s - loss: 5.9696"
     ]
    },
    {
     "name": "stdout",
     "output_type": "stream",
     "text": [
      "\b\b\b\b\b\b\b\b\b\b\b\b\b\b\b\b\b\b\b\b\b\b\b\b\b\b\b\b\b\b\b\b\b\b\b\b\b\b\b\b\b\b\b\b\b\b\b\b\b\b\b\b\b\b\b\b\b\b\b\b\b\b\b\b\b\r",
      "200/200 [==============================] - 0s 145us/step - loss: 5.7114\n"
     ]
    },
    {
     "name": "stdout",
     "output_type": "stream",
     "text": [
      "\t\t\t\t\t67\n",
      "Epoch 1/1\n",
      "\r",
      " 32/200 [===>..........................] - ETA: 0s - loss: 5.4872"
     ]
    },
    {
     "name": "stdout",
     "output_type": "stream",
     "text": [
      "\b\b\b\b\b\b\b\b\b\b\b\b\b\b\b\b\b\b\b\b\b\b\b\b\b\b\b\b\b\b\b\b\b\b\b\b\b\b\b\b\b\b\b\b\b\b\b\b\b\b\b\b\b\b\b\b\b\b\b\b\b\b\b\b\b\r",
      "200/200 [==============================] - 0s 179us/step - loss: 5.2921\n"
     ]
    },
    {
     "name": "stdout",
     "output_type": "stream",
     "text": [
      "\t\t\t\t\t74\n",
      "Epoch 1/1\n",
      "\r",
      " 32/200 [===>..........................] - ETA: 0s - loss: 5.1150"
     ]
    },
    {
     "name": "stdout",
     "output_type": "stream",
     "text": [
      "\b\b\b\b\b\b\b\b\b\b\b\b\b\b\b\b\b\b\b\b\b\b\b\b\b\b\b\b\b\b\b\b\b\b\b\b\b\b\b\b\b\b\b\b\b\b\b\b\b\b\b\b\b\b\b\b\b\b\b\b\b\b\b\b\b\r",
      "200/200 [==============================] - 0s 153us/step - loss: 4.9969\n"
     ]
    },
    {
     "name": "stdout",
     "output_type": "stream",
     "text": [
      "\t\t\t\t\t76\n",
      "Epoch 1/1\n",
      "\r",
      " 32/200 [===>..........................] - ETA: 0s - loss: 4.8455"
     ]
    },
    {
     "name": "stdout",
     "output_type": "stream",
     "text": [
      "\b\b\b\b\b\b\b\b\b\b\b\b\b\b\b\b\b\b\b\b\b\b\b\b\b\b\b\b\b\b\b\b\b\b\b\b\b\b\b\b\b\b\b\b\b\b\b\b\b\b\b\b\b\b\b\b\b\b\b\b\b\b\b\b\b\r",
      "200/200 [==============================] - 0s 159us/step - loss: 4.8250\n"
     ]
    },
    {
     "name": "stdout",
     "output_type": "stream",
     "text": [
      "\t\t\t\t\t74\n",
      "Epoch 1/1\n",
      "\r",
      " 32/200 [===>..........................] - ETA: 0s - loss: 4.8036"
     ]
    },
    {
     "name": "stdout",
     "output_type": "stream",
     "text": [
      "\b\b\b\b\b\b\b\b\b\b\b\b\b\b\b\b\b\b\b\b\b\b\b\b\b\b\b\b\b\b\b\b\b\b\b\b\b\b\b\b\b\b\b\b\b\b\b\b\b\b\b\b\b\b\b\b\b\b\b\b\b\b\b\b\b\r",
      "200/200 [==============================] - 0s 146us/step - loss: 4.6494\n"
     ]
    },
    {
     "name": "stdout",
     "output_type": "stream",
     "text": [
      "\t\t\t\t\t77\n",
      "Epoch 1/1\n",
      "\r",
      " 32/200 [===>..........................] - ETA: 0s - loss: 4.5891"
     ]
    },
    {
     "name": "stdout",
     "output_type": "stream",
     "text": [
      "\b\b\b\b\b\b\b\b\b\b\b\b\b\b\b\b\b\b\b\b\b\b\b\b\b\b\b\b\b\b\b\b\b\b\b\b\b\b\b\b\b\b\b\b\b\b\b\b\b\b\b\b\b\b\b\b\b\b\b\b\b\b\b\b\b\r",
      "200/200 [==============================] - 0s 144us/step - loss: 4.4287\n"
     ]
    },
    {
     "name": "stdout",
     "output_type": "stream",
     "text": [
      "\t\t\t\t\t85\n",
      "Epoch 1/1\n",
      "\r",
      " 32/200 [===>..........................] - ETA: 0s - loss: 4.2614"
     ]
    },
    {
     "name": "stdout",
     "output_type": "stream",
     "text": [
      "\b\b\b\b\b\b\b\b\b\b\b\b\b\b\b\b\b\b\b\b\b\b\b\b\b\b\b\b\b\b\b\b\b\b\b\b\b\b\b\b\b\b\b\b\b\b\b\b\b\b\b\b\b\b\b\b\b\b\b\b\b\b\b\b\b\r",
      "200/200 [==============================] - 0s 177us/step - loss: 4.2848\n"
     ]
    },
    {
     "name": "stdout",
     "output_type": "stream",
     "text": [
      "\t\t\t\t\t80\n"
     ]
    }
   ],
   "source": [
    "# 1 - load model and parameters\n",
    "model = ks.models.load_model(model_tagPredictor_save)\n",
    "vocabulary_size, max_input_length, output_labels = load_parameters(global_param)\n",
    "\n",
    "# 2 - upload training dataset\n",
    "train_in = np.load(\"./ilya_model/data_in.npy\")\n",
    "train_out = np.load(\"./ilya_model/data_out.npy\")\n",
    "\n",
    "# 3 - train the model on batches of200 random values\n",
    "training_size = 200\n",
    "for i in range(0,20):\n",
    "    train_indx = np.random.randint(0, len(train_in), size=training_size)\n",
    "    model.fit(train_in[train_indx, :], train_out[train_indx, :],\n",
    "              verbose=1, epochs=1, batch_size=32)\n",
    "\n",
    "    # b - check quality\n",
    "    correct = 0\n",
    "    for i in range(0, 100):\n",
    "        # a - take random tag and run prediction\n",
    "        indx = np.random.randint(len(tags))\n",
    "        tag = tags[indx]\n",
    "        true_field = fields[indx]\n",
    "        \n",
    "        predict_numeric, predict_string, predict_raw = predict(\n",
    "            tag, model, vocabulary_size, max_input_length, output_labels)\n",
    "\n",
    "        if (predict_string == true_field):\n",
    "            correct += 1\n",
    "\n",
    "    print(\"\\t\\t\\t\\t\\t%s\" % (correct))"
   ]
  },
  {
   "cell_type": "markdown",
   "metadata": {
    "ein.tags": "worksheet-0",
    "slideshow": {
     "slide_type": "-"
    }
   },
   "source": [
    "# Playing with weights"
   ]
  },
  {
   "cell_type": "code",
   "execution_count": null,
   "metadata": {
    "autoscroll": false,
    "collapsed": false,
    "ein.hycell": false,
    "ein.tags": "worksheet-0",
    "slideshow": {
     "slide_type": "-"
    }
   },
   "outputs": [],
   "source": [
    "model = ks.models.load_model(model_tagPredictor_save)\n",
    "model.layers[-4].get_weights()[0]"
   ]
  },
  {
   "cell_type": "markdown",
   "metadata": {
    "ein.tags": "worksheet-0",
    "slideshow": {
     "slide_type": "-"
    }
   },
   "source": [
    "# Autoencoder - make sure \"data_in\" is loaded from above"
   ]
  },
  {
   "cell_type": "markdown",
   "metadata": {
    "ein.tags": "worksheet-0",
    "slideshow": {
     "slide_type": "-"
    }
   },
   "source": [
    "## Use the trained \"tag_model\" to embed the tags into a (15x80) Dense vectors"
   ]
  },
  {
   "cell_type": "code",
   "execution_count": 8,
   "metadata": {
    "autoscroll": false,
    "collapsed": false,
    "ein.hycell": false,
    "ein.tags": "worksheet-0",
    "slideshow": {
     "slide_type": "-"
    }
   },
   "outputs": [
    {
     "ename": "NameError",
     "evalue": "name 'tag_model' is not defined",
     "output_type": "error",
     "traceback": [
      "\u001b[0;31m\u001b[0m",
      "\u001b[0;31mNameError\u001b[0mTraceback (most recent call last)",
      "\u001b[0;32m<ipython-input-8-636c25047924>\u001b[0m in \u001b[0;36m<module>\u001b[0;34m\u001b[0m\n\u001b[1;32m      1\u001b[0m \u001b[0;31m# 1 - create a model that takes in tags and outputs their embedded vectors\u001b[0m\u001b[0;34m\u001b[0m\u001b[0;34m\u001b[0m\u001b[0;34m\u001b[0m\u001b[0m\n\u001b[1;32m      2\u001b[0m \u001b[0;31m#   - effecitvely this is the first layer of the \"tag_predictor\"\u001b[0m\u001b[0;34m\u001b[0m\u001b[0;34m\u001b[0m\u001b[0;34m\u001b[0m\u001b[0m\n\u001b[0;32m----> 3\u001b[0;31m \u001b[0mmodel_embed\u001b[0m \u001b[0;34m=\u001b[0m \u001b[0mModel\u001b[0m\u001b[0;34m(\u001b[0m\u001b[0mtag_model\u001b[0m\u001b[0;34m.\u001b[0m\u001b[0minputs\u001b[0m\u001b[0;34m,\u001b[0m \u001b[0mtag_model\u001b[0m\u001b[0;34m.\u001b[0m\u001b[0mget_layer\u001b[0m\u001b[0;34m(\u001b[0m\u001b[0;34m\"embedding\"\u001b[0m\u001b[0;34m)\u001b[0m\u001b[0;34m.\u001b[0m\u001b[0moutput\u001b[0m\u001b[0;34m)\u001b[0m\u001b[0;34m\u001b[0m\u001b[0;34m\u001b[0m\u001b[0m\n\u001b[0m\u001b[1;32m      4\u001b[0m \u001b[0;34m\u001b[0m\u001b[0m\n\u001b[1;32m      5\u001b[0m \u001b[0;31m# 2 - run model on input tags, to turn each character into an embedded vector (?, 15) → (?, 15, 80)\u001b[0m\u001b[0;34m\u001b[0m\u001b[0;34m\u001b[0m\u001b[0;34m\u001b[0m\u001b[0m\n",
      "\u001b[0;31mNameError\u001b[0m: name 'tag_model' is not defined"
     ]
    }
   ],
   "source": [
    "# 1 - create a model that takes in tags and outputs their embedded vectors\n",
    "#   - effecitvely this is the first layer of the \"tag_predictor\"\n",
    "model_embed = Model(tag_model.inputs, tag_model.get_layer(\"embedding\").output)\n",
    "\n",
    "# 2 - run model on input tags, to turn each character into an embedded vector (?, 15) → (?, 15, 80) \n",
    "tags_embeded = model_embed.predict(data_in)"
   ]
  },
  {
   "cell_type": "markdown",
   "metadata": {
    "ein.tags": "worksheet-0",
    "slideshow": {
     "slide_type": "-"
    }
   },
   "source": [
    "## Pass the embeded tags to the autoencoder"
   ]
  },
  {
   "cell_type": "code",
   "execution_count": 131,
   "metadata": {
    "autoscroll": false,
    "collapsed": false,
    "ein.hycell": false,
    "ein.tags": "worksheet-0",
    "slideshow": {
     "slide_type": "-"
    }
   },
   "outputs": [
    {
     "name": "stdout",
     "output_type": "stream",
     "text": [
      "_________________________________________________________________\n",
      "Layer (type)                 Output Shape              Param #   \n",
      "=================================================================\n",
      "input_15x80 (InputLayer)     (None, 15, 80)            0         \n",
      "_________________________________________________________________\n",
      "flattend_15x80 (Flatten)     (None, 1200)              0         \n",
      "_________________________________________________________________\n",
      "encoding (Dense)             (None, 3)                 3603      \n",
      "_________________________________________________________________\n",
      "decoding (Dense)             (None, 1200)              4800      \n",
      "_________________________________________________________________\n",
      "reshaped_15x80 (Reshape)     (None, 15, 80)            0         \n",
      "=================================================================\n",
      "Total params: 8,403\n",
      "Trainable params: 8,403\n",
      "Non-trainable params: 0\n",
      "_________________________________________________________________\n",
      "None\n"
     ]
    }
   ],
   "source": [
    "########################################\n",
    "encoding_funnel_dimension = 3\n",
    "########################################\n",
    "dim_in_1 = tags_embeded.shape[1]\n",
    "dim_in_2 = tags_embeded.shape[2]\n",
    "\n",
    "# 1 - input layer (?, 15, 80) → flatten to (?, 1200)\n",
    "input_LAYER = Input((dim_in_1, dim_in_2), name=\"input_15x80\")\n",
    "flattened_LAYER = Flatten(name=\"flattend_15x80\")(input_LAYER)\n",
    "\n",
    "# 2 - middle \"funnel\" or encoding\n",
    "encoding_LAYER = Dense(encoding_funnel_dimension, activation='relu', name=\"encoding\",\n",
    "                    activity_regularizer=regularizers.l1(10e-5))(flattened_LAYER)\n",
    "\n",
    "# 3 - decode the funneled layer → reshape\n",
    "decoding_LAYER = Dense(dim_in_1 * dim_in_2, activation='sigmoid',\n",
    "                       name=\"decoding\")(encoding_LAYER)\n",
    "unflattened_LAYER = Reshape((dim_in_1, dim_in_2), name=\"reshaped_15x80\")(decoding_LAYER)\n",
    "\n",
    "# 4 - compile model\n",
    "model_autoencoder = Model(input_LAYER, unflattened_LAYER)\n",
    "model_autoencoder.compile(optimizer='adam', loss='mse')\n",
    "print(model_autoencoder.summary())\n",
    "model_autoencoder.save(model_autoencoder_save)"
   ]
  },
  {
   "cell_type": "markdown",
   "metadata": {
    "ein.tags": "worksheet-0",
    "slideshow": {
     "slide_type": "-"
    }
   },
   "source": [
    "## Train autoencoder"
   ]
  },
  {
   "cell_type": "code",
   "execution_count": 7,
   "metadata": {
    "autoscroll": false,
    "collapsed": false,
    "ein.hycell": false,
    "ein.tags": "worksheet-0",
    "slideshow": {
     "slide_type": "-"
    }
   },
   "outputs": [
    {
     "name": "stdout",
     "output_type": "stream",
     "text": [
      "WARNING:tensorflow:From /Users/CCCP/creamy_seas/syncFiles/python_vi/nn_vi/lib/python3.7/site-packages/tensorflow/python/framework/op_def_library.py:263: colocate_with (from tensorflow.python.framework.ops) is deprecated and will be removed in a future version.\n",
      "Instructions for updating:\n",
      "Colocations handled automatically by placer.\n"
     ]
    },
    {
     "ename": "NameError",
     "evalue": "name 'tags_embeded' is not defined",
     "output_type": "error",
     "traceback": [
      "\u001b[0;31m\u001b[0m",
      "\u001b[0;31mNameError\u001b[0mTraceback (most recent call last)",
      "\u001b[0;32m<ipython-input-7-51a70d0adc86>\u001b[0m in \u001b[0;36m<module>\u001b[0;34m\u001b[0m\n\u001b[1;32m      5\u001b[0m \u001b[0;31m# 1 - load the compiled model and begin training\u001b[0m\u001b[0;34m\u001b[0m\u001b[0;34m\u001b[0m\u001b[0;34m\u001b[0m\u001b[0m\n\u001b[1;32m      6\u001b[0m \u001b[0mmodel\u001b[0m \u001b[0;34m=\u001b[0m \u001b[0mks\u001b[0m\u001b[0;34m.\u001b[0m\u001b[0mmodels\u001b[0m\u001b[0;34m.\u001b[0m\u001b[0mload_model\u001b[0m\u001b[0;34m(\u001b[0m\u001b[0mautoencoder_save\u001b[0m\u001b[0;34m)\u001b[0m\u001b[0;34m\u001b[0m\u001b[0;34m\u001b[0m\u001b[0m\n\u001b[0;32m----> 7\u001b[0;31m history_log = model.fit(tags_embeded, tags_embeded, verbose=1, epochs=epochs,\n\u001b[0m\u001b[1;32m      8\u001b[0m           batch_size=1000, validation_split=0.05)\n\u001b[1;32m      9\u001b[0m \u001b[0;34m\u001b[0m\u001b[0m\n",
      "\u001b[0;31mNameError\u001b[0m: name 'tags_embeded' is not defined"
     ]
    }
   ],
   "source": [
    "########################################\n",
    "training_name = \"./ilya_model/model_autoencoder_14thJune\"\n",
    "epochs = 25\n",
    "########################################\n",
    "# 1 - load the compiled model and begin training\n",
    "model = ks.models.load_model(model_autoencoder_save)\n",
    "history_log = model.fit(tags_embeded, tags_embeded, verbose=1, epochs=epochs,\n",
    "          batch_size=1000, validation_split=0.05)\n",
    "            \n",
    "# 3 - save the weights\n",
    "model.save(training_name)\n",
    "\n",
    "# 4 plot training history_log\n",
    "fig, ax = plt.subplots(nrows=1, ncols=1)\n",
    "ax.plot(history_log.history[\"loss\"])\n",
    "ax.plot(history_log.history[\"val_loss\"], color=\"C4\")\n",
    "ax.set_title(\"Training history_log\")\n",
    "ax.set_xlabel(\"Epoch\")\n",
    "ax.set_ylabel(\"Loss\")\n",
    "ax.legend([\"Train\", \"Valdiation\"])\n",
    "\n",
    "plt.show()"
   ]
  },
  {
   "cell_type": "code",
   "execution_count": 6,
   "metadata": {
    "autoscroll": false,
    "collapsed": false,
    "ein.hycell": false,
    "ein.tags": "worksheet-0",
    "slideshow": {
     "slide_type": "-"
    }
   },
   "outputs": [
    {
     "ename": "NameError",
     "evalue": "name 'model_autoencoder' is not defined",
     "output_type": "error",
     "traceback": [
      "\u001b[0;31m\u001b[0m",
      "\u001b[0;31mNameError\u001b[0mTraceback (most recent call last)",
      "\u001b[0;32m<ipython-input-6-810f07934ab5>\u001b[0m in \u001b[0;36m<module>\u001b[0;34m\u001b[0m\n\u001b[0;32m----> 1\u001b[0;31m \u001b[0mviz_input_LAYER\u001b[0m \u001b[0;34m=\u001b[0m \u001b[0mmodel_autoencoder\u001b[0m\u001b[0;34m.\u001b[0m\u001b[0mget_layer\u001b[0m\u001b[0;34m(\u001b[0m\u001b[0;34m\"input_15x80\"\u001b[0m\u001b[0;34m)\u001b[0m\u001b[0;34m.\u001b[0m\u001b[0minput\u001b[0m\u001b[0;34m\u001b[0m\u001b[0;34m\u001b[0m\u001b[0m\n\u001b[0m\u001b[1;32m      2\u001b[0m \u001b[0mviz_output_LAYER\u001b[0m \u001b[0;34m=\u001b[0m \u001b[0mmodel_autoencoder\u001b[0m\u001b[0;34m.\u001b[0m\u001b[0mget_layer\u001b[0m\u001b[0;34m(\u001b[0m\u001b[0;34m\"encoding\"\u001b[0m\u001b[0;34m)\u001b[0m\u001b[0;34m.\u001b[0m\u001b[0moutput\u001b[0m\u001b[0;34m\u001b[0m\u001b[0;34m\u001b[0m\u001b[0m\n\u001b[1;32m      3\u001b[0m \u001b[0mvizualization_model\u001b[0m \u001b[0;34m=\u001b[0m \u001b[0mModel\u001b[0m\u001b[0;34m(\u001b[0m\u001b[0mviz_input_LAYER\u001b[0m\u001b[0;34m,\u001b[0m \u001b[0mviz_output_LAYER\u001b[0m\u001b[0;34m)\u001b[0m\u001b[0;34m\u001b[0m\u001b[0;34m\u001b[0m\u001b[0m\n\u001b[1;32m      4\u001b[0m \u001b[0;34m\u001b[0m\u001b[0m\n\u001b[1;32m      5\u001b[0m \u001b[0;31m# 2 - run vizualisation on some of the tags\u001b[0m\u001b[0;34m\u001b[0m\u001b[0;34m\u001b[0m\u001b[0;34m\u001b[0m\u001b[0m\n",
      "\u001b[0;31mNameError\u001b[0m: name 'model_autoencoder' is not defined"
     ]
    }
   ],
   "source": [
    "viz_input_LAYER = model_autoencoder.get_layer(\"input_15x80\").input\n",
    "viz_output_LAYER = model_autoencoder.get_layer(\"encoding\").output\n",
    "vizualization_model = Model(viz_input_LAYER, viz_output_LAYER)\n",
    "\n",
    "# 2 - run vizualisation on some of the tags\n",
    "indx = np.random.randint(len(tags_embeded), size=400)\n",
    "tags_encoded = vizualization_model.predict(tags_embeded[indx])\n",
    "tag_fields = np.argmax(data_out[indx], axis=1) # extract the field that each tag belongs to"
   ]
  },
  {
   "cell_type": "code",
   "execution_count": 1,
   "metadata": {
    "autoscroll": false,
    "collapsed": false,
    "ein.hycell": false,
    "ein.tags": "worksheet-0",
    "slideshow": {
     "slide_type": "-"
    }
   },
   "outputs": [
    {
     "ename": "NameError",
     "evalue": "name 'plt' is not defined",
     "output_type": "error",
     "traceback": [
      "\u001b[0;31m\u001b[0m",
      "\u001b[0;31mNameError\u001b[0mTraceback (most recent call last)",
      "\u001b[0;32m<ipython-input-1-8f8507f61ea1>\u001b[0m in \u001b[0;36m<module>\u001b[0;34m\u001b[0m\n\u001b[1;32m      1\u001b[0m \u001b[0;31m# %matplotlib qt\u001b[0m\u001b[0;34m\u001b[0m\u001b[0;34m\u001b[0m\u001b[0;34m\u001b[0m\u001b[0m\n\u001b[1;32m      2\u001b[0m \u001b[0mcolors\u001b[0m \u001b[0;34m=\u001b[0m \u001b[0;34m[\u001b[0m\u001b[0;34m'navy'\u001b[0m\u001b[0;34m,\u001b[0m \u001b[0;34m'turquoise'\u001b[0m\u001b[0;34m,\u001b[0m \u001b[0;34m'darkorange'\u001b[0m\u001b[0;34m]\u001b[0m\u001b[0;34m\u001b[0m\u001b[0;34m\u001b[0m\u001b[0m\n\u001b[0;32m----> 3\u001b[0;31m \u001b[0mfig\u001b[0m \u001b[0;34m=\u001b[0m \u001b[0mplt\u001b[0m\u001b[0;34m.\u001b[0m\u001b[0mfigure\u001b[0m\u001b[0;34m(\u001b[0m\u001b[0;34m)\u001b[0m\u001b[0;34m\u001b[0m\u001b[0;34m\u001b[0m\u001b[0m\n\u001b[0m\u001b[1;32m      4\u001b[0m \u001b[0max\u001b[0m \u001b[0;34m=\u001b[0m \u001b[0mfig\u001b[0m\u001b[0;34m.\u001b[0m\u001b[0madd_subplot\u001b[0m\u001b[0;34m(\u001b[0m\u001b[0;36m111\u001b[0m\u001b[0;34m,\u001b[0m \u001b[0mprojection\u001b[0m\u001b[0;34m=\u001b[0m\u001b[0;34m'3d'\u001b[0m\u001b[0;34m)\u001b[0m\u001b[0;34m\u001b[0m\u001b[0;34m\u001b[0m\u001b[0m\n\u001b[1;32m      5\u001b[0m \u001b[0mcolours\u001b[0m \u001b[0;34m=\u001b[0m \u001b[0;34m[\u001b[0m\u001b[0;34m'navy'\u001b[0m\u001b[0;34m,\u001b[0m \u001b[0;34m'turquoise'\u001b[0m\u001b[0;34m,\u001b[0m \u001b[0;34m'darkorange'\u001b[0m\u001b[0;34m,\u001b[0m \u001b[0;34m'red'\u001b[0m\u001b[0;34m]\u001b[0m\u001b[0;34m\u001b[0m\u001b[0;34m\u001b[0m\u001b[0m\n",
      "\u001b[0;31mNameError\u001b[0m: name 'plt' is not defined"
     ]
    }
   ],
   "source": [
    "# %matplotlib qt\n",
    "colors = ['navy', 'turquoise', 'darkorange']\n",
    "fig = plt.figure()\n",
    "ax = fig.add_subplot(111, projection='3d')\n",
    "colours = ['navy', 'turquoise', 'darkorange', 'red']\n",
    "\n",
    "    \n",
    "for colour, i, label in zip(colours, [0, 1, 2, 3], output_labels):\n",
    "    ax.scatter(tags_encoded[tag_fields==i, 0],\n",
    "               tags_encoded[tag_fields==i, 1],\n",
    "               tags_encoded[tag_fields==i, 2],\n",
    "               color=colour,\n",
    "               label=label)\n",
    "plt.show()\n",
    "# tags_encoded.shape[]"
   ]
  },
  {
   "cell_type": "code",
   "execution_count": null,
   "metadata": {
    "autoscroll": false,
    "collapsed": false,
    "ein.hycell": false,
    "ein.tags": "worksheet-0",
    "slideshow": {
     "slide_type": "-"
    }
   },
   "outputs": [],
   "source": [
    "# 1 - take embedding layer of the \"tag_predictor model\"\n",
    "# the TRAINDE model will have the fitted weights that groups characters by context\n",
    "tag_model = load_model(training_name)\n",
    "embedding_LAYER = tag_model.get_layer(\"embedding\")\n",
    "# 92 characters, each with an 80-dimensional vector\n",
    "embedding_LAYER.get_weights()[0].shape"
   ]
  }
 ],
 "metadata": {
  "kernelspec": {
   "display_name": "Python 3",
   "name": "python3"
  },
  "language_info": {
   "codemirror_mode": {
    "name": "ipython",
    "version": 3
   },
   "file_extension": ".py",
   "mimetype": "text/x-python",
   "name": "python",
   "nbconvert_exporter": "python",
   "pygments_lexer": "ipython3",
   "version": "3.6.7"
  },
  "name": "ilya_predictingTags.ipynb"
 },
 "nbformat": 4,
 "nbformat_minor": 2
}
